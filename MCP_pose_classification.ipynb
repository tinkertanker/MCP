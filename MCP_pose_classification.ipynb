{
  "nbformat": 4,
  "nbformat_minor": 0,
  "metadata": {
    "colab": {
      "name": "MCP_pose_classification.ipynb",
      "provenance": [],
      "collapsed_sections": [
        "6Ox4Cyr0LD6k"
      ],
      "toc_visible": true
    },
    "kernelspec": {
      "name": "python3",
      "display_name": "Python 3"
    },
    "language_info": {
      "name": "python"
    }
  },
  "cells": [
    {
      "cell_type": "markdown",
      "source": [
        "# MCP pose classification\n",
        "\n",
        "*TensorFlow pose classification from MoveNet data (adapted for 2022 Marina Central Project)*\n",
        "\n",
        "This notebook is adapted from the [TensorFlow pose classification tutorial part 2](https://www.tensorflow.org/lite/tutorials/pose_classification) to use the pre-processed and classified pose data we have to train a model to recognise the poses, and convert it to be used in a DepthAI OAK camera."
      ],
      "metadata": {
        "id": "6Ox4Cyr0LD6k"
      }
    },
    {
      "cell_type": "markdown",
      "source": [
        "# Preparation"
      ],
      "metadata": {
        "id": "SIHuoBvZLvPD"
      }
    },
    {
      "cell_type": "markdown",
      "source": [
        "This installs the required packages."
      ],
      "metadata": {
        "id": "ChD0GPcULXdn"
      }
    },
    {
      "cell_type": "code",
      "execution_count": 113,
      "metadata": {
        "colab": {
          "base_uri": "https://localhost:8080/"
        },
        "id": "zpvUMbzYLBHc",
        "outputId": "bc48afb4-a041-42ae-8df6-2e443162fb74"
      },
      "outputs": [
        {
          "output_type": "stream",
          "name": "stdout",
          "text": [
            "/content\n",
            "\u001b[31mERROR: Operation cancelled by user\u001b[0m\n",
            "Requirement already satisfied: blobconverter in /usr/local/lib/python3.7/dist-packages (1.2.9)\n",
            "Requirement already satisfied: PyYAML in /usr/local/lib/python3.7/dist-packages (from blobconverter) (6.0)\n",
            "Requirement already satisfied: requests in /usr/local/lib/python3.7/dist-packages (from blobconverter) (2.27.1)\n",
            "Requirement already satisfied: boto3 in /usr/local/lib/python3.7/dist-packages (from blobconverter) (1.21.13)\n",
            "Requirement already satisfied: s3transfer<0.6.0,>=0.5.0 in /usr/local/lib/python3.7/dist-packages (from boto3->blobconverter) (0.5.2)\n",
            "Requirement already satisfied: botocore<1.25.0,>=1.24.13 in /usr/local/lib/python3.7/dist-packages (from boto3->blobconverter) (1.24.13)\n",
            "Requirement already satisfied: jmespath<1.0.0,>=0.7.1 in /usr/local/lib/python3.7/dist-packages (from boto3->blobconverter) (0.10.0)\n",
            "Requirement already satisfied: python-dateutil<3.0.0,>=2.1 in /usr/local/lib/python3.7/dist-packages (from botocore<1.25.0,>=1.24.13->boto3->blobconverter) (2.8.2)\n",
            "Requirement already satisfied: urllib3<1.27,>=1.25.4 in /usr/local/lib/python3.7/dist-packages (from botocore<1.25.0,>=1.24.13->boto3->blobconverter) (1.26.8)\n",
            "Requirement already satisfied: six>=1.5 in /usr/local/lib/python3.7/dist-packages (from python-dateutil<3.0.0,>=2.1->botocore<1.25.0,>=1.24.13->boto3->blobconverter) (1.15.0)\n",
            "Requirement already satisfied: charset-normalizer~=2.0.0 in /usr/local/lib/python3.7/dist-packages (from requests->blobconverter) (2.0.12)\n",
            "Requirement already satisfied: certifi>=2017.4.17 in /usr/local/lib/python3.7/dist-packages (from requests->blobconverter) (2021.10.8)\n",
            "Requirement already satisfied: idna<4,>=2.5 in /usr/local/lib/python3.7/dist-packages (from requests->blobconverter) (2.10)\n",
            "Requirement already satisfied: openvino-dev in /usr/local/lib/python3.7/dist-packages (2021.4.2)\n",
            "Requirement already satisfied: requests>=2.25.1 in /usr/local/lib/python3.7/dist-packages (from openvino-dev) (2.27.1)\n",
            "Requirement already satisfied: shapely>=1.7.1 in /usr/local/lib/python3.7/dist-packages (from openvino-dev) (1.8.1.post1)\n",
            "Requirement already satisfied: pandas~=1.1.5 in /usr/local/lib/python3.7/dist-packages (from openvino-dev) (1.1.5)\n",
            "Requirement already satisfied: editdistance>=0.5.3 in /usr/local/lib/python3.7/dist-packages (from openvino-dev) (0.5.3)\n",
            "Requirement already satisfied: rawpy>=0.16.0 in /usr/local/lib/python3.7/dist-packages (from openvino-dev) (0.17.0)\n",
            "Requirement already satisfied: defusedxml>=0.7.1 in /usr/local/lib/python3.7/dist-packages (from openvino-dev) (0.7.1)\n",
            "Requirement already satisfied: scipy~=1.5.4 in /usr/local/lib/python3.7/dist-packages (from openvino-dev) (1.5.4)\n",
            "Requirement already satisfied: tokenizers>=0.10.1 in /usr/local/lib/python3.7/dist-packages (from openvino-dev) (0.11.6)\n",
            "Requirement already satisfied: nltk>=3.5 in /usr/local/lib/python3.7/dist-packages (from openvino-dev) (3.7)\n",
            "Requirement already satisfied: texttable~=1.6.3 in /usr/local/lib/python3.7/dist-packages (from openvino-dev) (1.6.4)\n",
            "Requirement already satisfied: pillow>=8.1.2 in /usr/local/lib/python3.7/dist-packages (from openvino-dev) (9.0.1)\n",
            "Requirement already satisfied: PyYAML>=5.4.1 in /usr/local/lib/python3.7/dist-packages (from openvino-dev) (6.0)\n",
            "Requirement already satisfied: parasail>=1.2.4 in /usr/local/lib/python3.7/dist-packages (from openvino-dev) (1.2.4)\n",
            "Requirement already satisfied: py-cpuinfo>=7.0.0 in /usr/local/lib/python3.7/dist-packages (from openvino-dev) (8.0.0)\n",
            "Requirement already satisfied: networkx~=2.5 in /usr/local/lib/python3.7/dist-packages (from openvino-dev) (2.6.3)\n",
            "Requirement already satisfied: fast-ctc-decode>=0.2.5 in /usr/local/lib/python3.7/dist-packages (from openvino-dev) (0.3.0)\n",
            "Requirement already satisfied: jstyleson~=0.0.2 in /usr/local/lib/python3.7/dist-packages (from openvino-dev) (0.0.2)\n",
            "Requirement already satisfied: scikit-image>=0.17.2 in /usr/local/lib/python3.7/dist-packages (from openvino-dev) (0.18.3)\n",
            "Requirement already satisfied: sentencepiece>=0.1.95 in /usr/local/lib/python3.7/dist-packages (from openvino-dev) (0.1.96)\n",
            "Requirement already satisfied: yamlloader>=0.5 in /usr/local/lib/python3.7/dist-packages (from openvino-dev) (1.1.0)\n",
            "Requirement already satisfied: openvino==2021.4.2 in /usr/local/lib/python3.7/dist-packages (from openvino-dev) (2021.4.2)\n",
            "Requirement already satisfied: addict>=2.4.0 in /usr/local/lib/python3.7/dist-packages (from openvino-dev) (2.4.0)\n",
            "Requirement already satisfied: scikit-learn>=0.24.1 in /usr/local/lib/python3.7/dist-packages (from openvino-dev) (1.0.2)\n",
            "Requirement already satisfied: opencv-python==4.5.* in /usr/local/lib/python3.7/dist-packages (from openvino-dev) (4.5.5.62)\n",
            "Requirement already satisfied: tqdm>=4.54.1 in /usr/local/lib/python3.7/dist-packages (from openvino-dev) (4.63.0)\n",
            "Requirement already satisfied: numpy<1.20,>=1.16.6 in /usr/local/lib/python3.7/dist-packages (from openvino-dev) (1.19.5)\n",
            "Requirement already satisfied: nibabel>=3.2.1 in /usr/local/lib/python3.7/dist-packages (from openvino-dev) (3.2.2)\n",
            "Requirement already satisfied: progress>=1.5 in /usr/local/lib/python3.7/dist-packages (from openvino-dev) (1.6)\n",
            "Requirement already satisfied: pydicom>=2.1.2 in /usr/local/lib/python3.7/dist-packages (from openvino-dev) (2.2.2)\n",
            "Requirement already satisfied: hyperopt~=0.1.2 in /usr/local/lib/python3.7/dist-packages (from openvino-dev) (0.1.2)\n",
            "Requirement already satisfied: future in /usr/local/lib/python3.7/dist-packages (from hyperopt~=0.1.2->openvino-dev) (0.16.0)\n",
            "Requirement already satisfied: six in /usr/local/lib/python3.7/dist-packages (from hyperopt~=0.1.2->openvino-dev) (1.15.0)\n",
            "Requirement already satisfied: pymongo in /usr/local/lib/python3.7/dist-packages (from hyperopt~=0.1.2->openvino-dev) (4.0.1)\n",
            "Requirement already satisfied: packaging>=14.3 in /usr/local/lib/python3.7/dist-packages (from nibabel>=3.2.1->openvino-dev) (21.3)\n",
            "Requirement already satisfied: setuptools in /usr/local/lib/python3.7/dist-packages (from nibabel>=3.2.1->openvino-dev) (57.4.0)\n",
            "Requirement already satisfied: joblib in /usr/local/lib/python3.7/dist-packages (from nltk>=3.5->openvino-dev) (1.1.0)\n",
            "Requirement already satisfied: regex>=2021.8.3 in /usr/local/lib/python3.7/dist-packages (from nltk>=3.5->openvino-dev) (2022.3.2)\n",
            "Requirement already satisfied: click in /usr/local/lib/python3.7/dist-packages (from nltk>=3.5->openvino-dev) (7.1.2)\n",
            "Requirement already satisfied: pyparsing!=3.0.5,>=2.0.2 in /usr/local/lib/python3.7/dist-packages (from packaging>=14.3->nibabel>=3.2.1->openvino-dev) (3.0.7)\n",
            "Requirement already satisfied: python-dateutil>=2.7.3 in /usr/local/lib/python3.7/dist-packages (from pandas~=1.1.5->openvino-dev) (2.8.2)\n",
            "Requirement already satisfied: pytz>=2017.2 in /usr/local/lib/python3.7/dist-packages (from pandas~=1.1.5->openvino-dev) (2018.9)\n",
            "Requirement already satisfied: idna<4,>=2.5 in /usr/local/lib/python3.7/dist-packages (from requests>=2.25.1->openvino-dev) (2.10)\n",
            "Requirement already satisfied: urllib3<1.27,>=1.21.1 in /usr/local/lib/python3.7/dist-packages (from requests>=2.25.1->openvino-dev) (1.26.8)\n",
            "Requirement already satisfied: charset-normalizer~=2.0.0 in /usr/local/lib/python3.7/dist-packages (from requests>=2.25.1->openvino-dev) (2.0.12)\n",
            "Requirement already satisfied: certifi>=2017.4.17 in /usr/local/lib/python3.7/dist-packages (from requests>=2.25.1->openvino-dev) (2021.10.8)\n",
            "Requirement already satisfied: matplotlib!=3.0.0,>=2.0.0 in /usr/local/lib/python3.7/dist-packages (from scikit-image>=0.17.2->openvino-dev) (3.2.2)\n",
            "Requirement already satisfied: PyWavelets>=1.1.1 in /usr/local/lib/python3.7/dist-packages (from scikit-image>=0.17.2->openvino-dev) (1.2.0)\n",
            "Requirement already satisfied: tifffile>=2019.7.26 in /usr/local/lib/python3.7/dist-packages (from scikit-image>=0.17.2->openvino-dev) (2021.11.2)\n",
            "Requirement already satisfied: imageio>=2.3.0 in /usr/local/lib/python3.7/dist-packages (from scikit-image>=0.17.2->openvino-dev) (2.4.1)\n",
            "Requirement already satisfied: cycler>=0.10 in /usr/local/lib/python3.7/dist-packages (from matplotlib!=3.0.0,>=2.0.0->scikit-image>=0.17.2->openvino-dev) (0.11.0)\n",
            "Requirement already satisfied: kiwisolver>=1.0.1 in /usr/local/lib/python3.7/dist-packages (from matplotlib!=3.0.0,>=2.0.0->scikit-image>=0.17.2->openvino-dev) (1.3.2)\n",
            "Requirement already satisfied: threadpoolctl>=2.0.0 in /usr/local/lib/python3.7/dist-packages (from scikit-learn>=0.24.1->openvino-dev) (3.1.0)\n",
            "Cloning into 'examples'...\n",
            "remote: Enumerating objects: 20667, done.\u001b[K\n",
            "remote: Counting objects: 100% (2487/2487), done.\u001b[K\n",
            "remote: Compressing objects: 100% (1084/1084), done.\u001b[K\n",
            "remote: Total 20667 (delta 1204), reused 2134 (delta 1043), pack-reused 18180\u001b[K\n",
            "Receiving objects: 100% (20667/20667), 34.15 MiB | 29.94 MiB/s, done.\n",
            "Resolving deltas: 100% (11298/11298), done.\n"
          ]
        }
      ],
      "source": [
        "%cd /content/\n",
        "!pip3 install -q opencv-python\n",
        "!pip3 install blobconverter\n",
        "!pip3 install openvino-dev\n",
        "!rm -rf examples\n",
        "!wget -q -O movenet_thunder.tflite https://tfhub.dev/google/lite-model/movenet/singlepose/thunder/tflite/float16/4?lite-format=tflite\n",
        "!git clone https://github.com/tensorflow/examples.git\n",
        "\n",
        "pose_sample_rpi_path = os.path.join(os.getcwd(), 'examples/lite/examples/pose_estimation/raspberry_pi')\n",
        "sys.path.append(pose_sample_rpi_path)"
      ]
    },
    {
      "cell_type": "markdown",
      "source": [
        "Import required packages"
      ],
      "metadata": {
        "id": "FcF7YW0mLh7r"
      }
    },
    {
      "cell_type": "code",
      "source": [
        "import csv\n",
        "import cv2\n",
        "import itertools\n",
        "import re\n",
        "import numpy as np\n",
        "import pandas as pd\n",
        "import os\n",
        "import sys\n",
        "import tempfile\n",
        "import tqdm\n",
        "import random\n",
        "\n",
        "from matplotlib import pyplot as plt\n",
        "from matplotlib.collections import LineCollection\n",
        "\n",
        "import tensorflow as tf\n",
        "import tensorflow_hub as hub\n",
        "from tensorflow import keras\n",
        "\n",
        "from sklearn.model_selection import train_test_split\n",
        "from sklearn.metrics import accuracy_score, classification_report, confusion_matrix\n",
        "\n",
        "import utils\n",
        "from data import BodyPart\n"
      ],
      "metadata": {
        "id": "MkDdoT3FLncK"
      },
      "execution_count": 72,
      "outputs": []
    },
    {
      "cell_type": "markdown",
      "source": [
        "# Preprocess CSVs"
      ],
      "metadata": {
        "id": "LkqFDRhhL1pL"
      }
    },
    {
      "cell_type": "markdown",
      "source": [
        "First, parse CSVs outputted by MoveNet for training, and splits it into test/train CSVs.\n",
        "\n",
        "The .csv file structure:\n",
        "\n",
        "```\n",
        "filename,x1,y1,x2,y2...x17,y17 (17 landmarks)\n",
        "```\n",
        "\n",
        "Required file structure:\n",
        "\n",
        "```\n",
        "pose_data\n",
        "  pose_name_1.csv\n",
        "  pose_name_2.csv\n",
        "  ...\n",
        "```"
      ],
      "metadata": {
        "id": "T0IR8kthQkik"
      }
    },
    {
      "cell_type": "markdown",
      "source": [
        "Mount Google Drive and import files into runtime (optional; files can be manually uploaded into `/content/pose_data` as needed"
      ],
      "metadata": {
        "id": "yAZSZbk8OM3p"
      }
    },
    {
      "cell_type": "code",
      "source": [
        "from google.colab import drive\n",
        "drive.mount('/content/drive')\n",
        "!rm -rf /content/pose_data/\n",
        "!mkdir /content/pose_data/\n",
        "!cp -r /content/drive/MyDrive/pose_data/* /content/pose_data/ # replace drive folder path as needed"
      ],
      "metadata": {
        "colab": {
          "base_uri": "https://localhost:8080/"
        },
        "id": "o1GmRoFhMHNE",
        "outputId": "8d865939-f7fa-42e0-9a99-4411978d4f47"
      },
      "execution_count": 3,
      "outputs": [
        {
          "output_type": "stream",
          "name": "stdout",
          "text": [
            "Drive already mounted at /content/drive; to attempt to forcibly remount, call drive.mount(\"/content/drive\", force_remount=True).\n"
          ]
        }
      ]
    },
    {
      "cell_type": "markdown",
      "source": [
        "Consolidate CSVs. (Code adapted from [demo](https://github.com/geaxgx/depthai_movenet/blob/main/examples/yoga_pose_recognition/demo.py))"
      ],
      "metadata": {
        "id": "pox2DOqNQI1l"
      }
    },
    {
      "cell_type": "code",
      "source": [
        "# parameters\n",
        "pose_samples_folder = '/content/pose_data/'\n",
        "file_extension = 'csv'\n",
        "file_delimiter = ','\n",
        "n_landmarks = 17\n",
        "n_dimensions = 2"
      ],
      "metadata": {
        "id": "zOSIPS0bVHLY"
      },
      "execution_count": 28,
      "outputs": []
    },
    {
      "cell_type": "code",
      "source": [
        "class_names = []\n",
        "file_names = [name for name in os.listdir(pose_samples_folder) if name.endswith(file_extension)]\n",
        "pose_samples = []\n",
        "for i, file_name in enumerate(file_names):\n",
        "  # Use file name as pose class name\n",
        "  class_name = file_name[:-(len(file_extension) + 1)]\n",
        "  class_names.insert(i, class_name)\n",
        "  pose_samples.insert(i, [])\n",
        "  # Parse CSV\n",
        "  with open(os.path.join(pose_samples_folder, file_name)) as csv_file:\n",
        "    csv_reader = csv.reader(csv_file, delimiter=file_delimiter)\n",
        "    for row in csv_reader:\n",
        "      assert len(row) == n_landmarks * n_dimensions + 1, 'Wrong number of values: {}'.format(len(row))\n",
        "      landmarks = np.array(row[1:], np.float32).reshape([n_landmarks, n_dimensions])\n",
        "      pose_sample = [ *row[1:], i, class_name]\n",
        "      pose_samples[i].append(pose_sample)"
      ],
      "metadata": {
        "id": "fTcsz6LqQteL"
      },
      "execution_count": 29,
      "outputs": []
    },
    {
      "cell_type": "markdown",
      "source": [
        "## Split test-train\n",
        "(adapted from pose classification tutorial)"
      ],
      "metadata": {
        "id": "DhHXh6HaXlyq"
      }
    },
    {
      "cell_type": "code",
      "source": [
        "test_split = 0.15"
      ],
      "metadata": {
        "id": "dKtm9HrZXkf6"
      },
      "execution_count": 30,
      "outputs": []
    },
    {
      "cell_type": "code",
      "source": [
        "train_poses = []\n",
        "test_poses = []\n",
        "\n",
        "for i in range(len(class_names)):\n",
        "  test_poses.insert(i, [])\n",
        "  train_poses.insert(i, [])\n",
        "\n",
        "  # Shuffle the data deterministically\n",
        "  pose_samples[i].sort()\n",
        "  random.seed(42)\n",
        "  random.shuffle(pose_samples[i])\n",
        "\n",
        "  test_count = int(len(pose_samples[i]) * test_split)\n",
        "\n",
        "  for j, sample in enumerate(pose_samples[i]):\n",
        "    if j < test_count:\n",
        "      test_poses[i].append(sample)\n",
        "    else:\n",
        "      train_poses[i].append(sample)"
      ],
      "metadata": {
        "id": "SfSAlkoMXu_s"
      },
      "execution_count": 31,
      "outputs": []
    },
    {
      "cell_type": "markdown",
      "source": [
        "Write test dataset and train dataset to respective CSVs."
      ],
      "metadata": {
        "id": "KTikNk2Wdt_4"
      }
    },
    {
      "cell_type": "code",
      "source": [
        "train_csv_name = 'pose_train_data.csv'\n",
        "test_csv_name = 'pose_test_data.csv'\n",
        "\n",
        "landmark_names = [\n",
        "    'nose',\n",
        "    'left_eye', \n",
        "    'right_eye',\n",
        "    'left_ear', 'right_ear',\n",
        "    'left_shoulder', 'right_shoulder',\n",
        "    'left_elbow', 'right_elbow',\n",
        "    'left_wrist', 'right_wrist',\n",
        "    'left_hip', 'right_hip',\n",
        "    'left_knee', 'right_knee',\n",
        "    'left_ankle', 'right_ankle',\n",
        "]\n",
        "csv_headers = [\n",
        "    *itertools.chain.from_iterable([[name + '_x', name + '_y'] for name in landmark_names]),\n",
        "    'class_no', 'class_name'\n",
        "]"
      ],
      "metadata": {
        "id": "N9IUqnWCXzsX"
      },
      "execution_count": 9,
      "outputs": []
    },
    {
      "cell_type": "code",
      "source": [
        "train_poses_rows = list(itertools.chain.from_iterable(train_poses))\n",
        "test_poses_rows = list(itertools.chain.from_iterable(test_poses))\n",
        "\n",
        "!cd /content/\n",
        "\n",
        "with open(train_csv_name, 'w', newline='') as train_csv:\n",
        "  writer = csv.writer(train_csv, delimiter=',')\n",
        "  writer.writerow(csv_headers)\n",
        "  for row in train_poses_rows:\n",
        "    writer.writerow(row)\n",
        "\n",
        "with open(test_csv_name, 'w', newline='') as test_csv:\n",
        "  writer = csv.writer(test_csv, delimiter=',')\n",
        "  writer.writerow(csv_headers)\n",
        "  for row in test_poses_rows:\n",
        "    writer.writerow(row)"
      ],
      "metadata": {
        "id": "UIaUSnyBhpsR"
      },
      "execution_count": 10,
      "outputs": []
    },
    {
      "cell_type": "markdown",
      "source": [
        "# Train model"
      ],
      "metadata": {
        "id": "2rdeKmeVlSEa"
      }
    },
    {
      "cell_type": "markdown",
      "source": [
        "## Load data"
      ],
      "metadata": {
        "id": "JQyXgGbFm3JK"
      }
    },
    {
      "cell_type": "code",
      "source": [
        "def load_pose_landmarks(csv_path):\n",
        "  \"\"\"Loads a CSV created by MoveNetPreprocessor.\n",
        "  \n",
        "  Returns:\n",
        "    X: Detected landmark coordinates (N, 17 * 2)\n",
        "    y: Ground truth labels of shape (N, label_count)\n",
        "    classes: The list of all class names found in the dataset\n",
        "    dataframe: The CSV loaded as a Pandas dataframe features (X) and ground\n",
        "      truth labels (y) to use later to train a pose classification model.\n",
        "  \"\"\"\n",
        "\n",
        "  # Load the CSV file\n",
        "  dataframe = pd.read_csv(csv_path)\n",
        "  df_to_process = dataframe.copy()\n",
        "\n",
        "  # Extract the list of class names\n",
        "  classes = df_to_process.pop('class_name').unique()\n",
        "\n",
        "  # Extract the labels\n",
        "  y = df_to_process.pop('class_no')\n",
        "\n",
        "  # Convert the input features and labels into the correct format for training.\n",
        "  X = df_to_process.astype('float64')\n",
        "  y = keras.utils.to_categorical(y)\n",
        "\n",
        "  return X, y, classes, dataframe"
      ],
      "metadata": {
        "id": "N3vF4RSOl8GT"
      },
      "execution_count": 32,
      "outputs": []
    },
    {
      "cell_type": "code",
      "source": [
        "# Load the train data\n",
        "X, y, class_names, _ = load_pose_landmarks(train_csv_name)\n",
        "\n",
        "# Split training data (X, y) into (X_train, y_train) and (X_val, y_val)\n",
        "X_train, X_val, y_train, y_val = train_test_split(X, y,\n",
        "                                                  test_size=0.15)"
      ],
      "metadata": {
        "id": "lrg9Ki3DnWOI"
      },
      "execution_count": 33,
      "outputs": []
    },
    {
      "cell_type": "code",
      "source": [
        "# Load the test data\n",
        "X_test, y_test, _, df_test = load_pose_landmarks(test_csv_name)"
      ],
      "metadata": {
        "id": "9kT_lIFNnZ1u"
      },
      "execution_count": 34,
      "outputs": []
    },
    {
      "cell_type": "code",
      "source": [
        "#@title FullBodyPoseEmbedder class\n",
        "#@markdown Taken from demo.py. Remember to run the block even though\n",
        "#@markdown the code is hidden.\n",
        "\n",
        "class FullBodyPoseEmbedder(object):\n",
        "  \"\"\"Converts pose landmarks into embedding.\"\"\"\n",
        "\n",
        "  def __init__(self, torso_size_multiplier=2.5):\n",
        "    # Multiplier to apply to the torso to get minimal body size.\n",
        "    self._torso_size_multiplier = torso_size_multiplier\n",
        "\n",
        "    # Names of the landmarks as they appear in the prediction.\n",
        "    self._landmark_names = [\n",
        "        'nose',\n",
        "        'left_eye', \n",
        "        'right_eye',\n",
        "        'left_ear', 'right_ear',\n",
        "        'left_shoulder', 'right_shoulder',\n",
        "        'left_elbow', 'right_elbow',\n",
        "        'left_wrist', 'right_wrist',\n",
        "        'left_hip', 'right_hip',\n",
        "        'left_knee', 'right_knee',\n",
        "        'left_ankle', 'right_ankle',\n",
        "    ]\n",
        "\n",
        "  def __call__(self, landmarks):\n",
        "    \"\"\"Normalizes pose landmarks and converts to embedding\n",
        "    \n",
        "    Args:\n",
        "      landmarks - NumPy array with 3D landmarks of shape (N, 3).\n",
        "    Result:\n",
        "      Numpy array with pose embedding of shape (M, 3) where `M` is the number of\n",
        "      pairwise distances defined in `_get_pose_distance_embedding`.\n",
        "    \"\"\"\n",
        "    print(landmarks.shape[0])\n",
        "    print(len(self._landmark_names))\n",
        "    # assert landmarks.shape[0] == len(self._landmark_names), 'Unexpected number of landmarks: {}'.format(landmarks.shape[0])\n",
        "\n",
        "    # Get pose landmarks.\n",
        "    landmarks = np.copy(landmarks)\n",
        "\n",
        "    # Normalize landmarks.\n",
        "    landmarks = self._normalize_pose_landmarks(landmarks)\n",
        "\n",
        "    # Get embedding. HERE\n",
        "    embedding = self._get_pose_distance_embedding(landmarks)\n",
        "\n",
        "    return embedding\n",
        "\n",
        "  def _normalize_pose_landmarks(self, landmarks):\n",
        "    \"\"\"Normalizes landmarks translation and scale.\"\"\"\n",
        "    landmarks = np.copy(landmarks)\n",
        "\n",
        "    # Normalize translation.\n",
        "    pose_center = self._get_pose_center(landmarks)\n",
        "    landmarks -= pose_center\n",
        "\n",
        "    # Normalize scale.\n",
        "    pose_size = self._get_pose_size(landmarks, self._torso_size_multiplier)\n",
        "    landmarks /= pose_size\n",
        "    # Multiplication by 100 is not required, but makes it eaasier to debug.\n",
        "    landmarks *= 100\n",
        "\n",
        "    return landmarks\n",
        "\n",
        "  def _get_pose_center(self, landmarks):\n",
        "    \"\"\"Calculates pose center as point between hips.\"\"\"\n",
        "    left_hip = landmarks[self._landmark_names.index('left_hip')]\n",
        "    right_hip = landmarks[self._landmark_names.index('right_hip')]\n",
        "    center = (left_hip + right_hip) * 0.5\n",
        "    return center\n",
        "\n",
        "  def _get_pose_size(self, landmarks, torso_size_multiplier):\n",
        "    \"\"\"Calculates pose size.\n",
        "    \n",
        "    It is the maximum of two values:\n",
        "      * Torso size multiplied by `torso_size_multiplier`\n",
        "      * Maximum distance from pose center to any pose landmark\n",
        "    \"\"\"\n",
        "    # This approach uses only 2D landmarks to compute pose size.\n",
        "    landmarks = landmarks[:, :2]\n",
        "\n",
        "    # Hips center.\n",
        "    left_hip = landmarks[self._landmark_names.index('left_hip')]\n",
        "    right_hip = landmarks[self._landmark_names.index('right_hip')]\n",
        "    hips = (left_hip + right_hip) * 0.5\n",
        "\n",
        "    # Shoulders center.\n",
        "    left_shoulder = landmarks[self._landmark_names.index('left_shoulder')]\n",
        "    right_shoulder = landmarks[self._landmark_names.index('right_shoulder')]\n",
        "    shoulders = (left_shoulder + right_shoulder) * 0.5\n",
        "\n",
        "    # Torso size as the minimum body size.\n",
        "    torso_size = np.linalg.norm(shoulders - hips)\n",
        "\n",
        "    # Max dist to pose center.\n",
        "    pose_center = self._get_pose_center(landmarks)\n",
        "    max_dist = np.max(np.linalg.norm(landmarks - pose_center, axis=1))\n",
        "\n",
        "    return max(torso_size * torso_size_multiplier, max_dist)\n",
        "\n",
        "  def _get_pose_distance_embedding(self, landmarks):\n",
        "    \"\"\"Converts pose landmarks into 3D embedding.\n",
        "    We use several pairwise 3D distances to form pose embedding. All distances\n",
        "    include X and Y components with sign. We differnt types of pairs to cover\n",
        "    different pose classes. Feel free to remove some or add new.\n",
        "    \n",
        "    Args:\n",
        "      landmarks - NumPy array with 3D landmarks of shape (N, 3).\n",
        "    Result:\n",
        "      Numpy array with pose embedding of shape (M, 3) where `M` is the number of\n",
        "      pairwise distances.\n",
        "    \"\"\"\n",
        "    embedding = np.array([\n",
        "        # One joint.\n",
        "\n",
        "        self._get_distance(\n",
        "            self._get_average_by_names(landmarks, 'left_hip', 'right_hip'),\n",
        "            self._get_average_by_names(landmarks, 'left_shoulder', 'right_shoulder')),\n",
        "\n",
        "        self._get_distance_by_names(landmarks, 'left_shoulder', 'left_elbow'),\n",
        "        self._get_distance_by_names(landmarks, 'right_shoulder', 'right_elbow'),\n",
        "\n",
        "        self._get_distance_by_names(landmarks, 'left_elbow', 'left_wrist'),\n",
        "        self._get_distance_by_names(landmarks, 'right_elbow', 'right_wrist'),\n",
        "\n",
        "        self._get_distance_by_names(landmarks, 'left_hip', 'left_knee'),\n",
        "        self._get_distance_by_names(landmarks, 'right_hip', 'right_knee'),\n",
        "\n",
        "        self._get_distance_by_names(landmarks, 'left_knee', 'left_ankle'),\n",
        "        self._get_distance_by_names(landmarks, 'right_knee', 'right_ankle'),\n",
        "\n",
        "        # Two joints.\n",
        "\n",
        "        self._get_distance_by_names(landmarks, 'left_shoulder', 'left_wrist'),\n",
        "        self._get_distance_by_names(landmarks, 'right_shoulder', 'right_wrist'),\n",
        "\n",
        "        self._get_distance_by_names(landmarks, 'left_hip', 'left_ankle'),\n",
        "        self._get_distance_by_names(landmarks, 'right_hip', 'right_ankle'),\n",
        "\n",
        "        # Four joints.\n",
        "\n",
        "        self._get_distance_by_names(landmarks, 'left_hip', 'left_wrist'),\n",
        "        self._get_distance_by_names(landmarks, 'right_hip', 'right_wrist'),\n",
        "\n",
        "        # Five joints.\n",
        "\n",
        "        self._get_distance_by_names(landmarks, 'left_shoulder', 'left_ankle'),\n",
        "        self._get_distance_by_names(landmarks, 'right_shoulder', 'right_ankle'),\n",
        "        \n",
        "        self._get_distance_by_names(landmarks, 'left_hip', 'left_wrist'),\n",
        "        self._get_distance_by_names(landmarks, 'right_hip', 'right_wrist'),\n",
        "\n",
        "        # Cross body.\n",
        "\n",
        "        self._get_distance_by_names(landmarks, 'left_elbow', 'right_elbow'),\n",
        "        self._get_distance_by_names(landmarks, 'left_knee', 'right_knee'),\n",
        "\n",
        "        self._get_distance_by_names(landmarks, 'left_wrist', 'right_wrist'),\n",
        "        self._get_distance_by_names(landmarks, 'left_ankle', 'right_ankle'),\n",
        "\n",
        "        # Body bent direction.\n",
        "\n",
        "        # self._get_distance(\n",
        "        #     self._get_average_by_names(landmarks, 'left_wrist', 'left_ankle'),\n",
        "        #     landmarks[self._landmark_names.index('left_hip')]),\n",
        "        # self._get_distance(\n",
        "        #     self._get_average_by_names(landmarks, 'right_wrist', 'right_ankle'),\n",
        "        #     landmarks[self._landmark_names.index('right_hip')]),\n",
        "    ])\n",
        "\n",
        "    return embedding\n",
        "\n",
        "  def _get_average_by_names(self, landmarks, name_from, name_to):\n",
        "    lmk_from = landmarks[self._landmark_names.index(name_from)]\n",
        "    lmk_to = landmarks[self._landmark_names.index(name_to)]\n",
        "    return (lmk_from + lmk_to) * 0.5\n",
        "\n",
        "  def _get_distance_by_names(self, landmarks, name_from, name_to):\n",
        "    lmk_from = landmarks[self._landmark_names.index(name_from)]\n",
        "    lmk_to = landmarks[self._landmark_names.index(name_to)]\n",
        "    return self._get_distance(lmk_from, lmk_to)\n",
        "\n",
        "  def _get_distance(self, lmk_from, lmk_to):\n",
        "    return lmk_to - lmk_from"
      ],
      "metadata": {
        "id": "I2RRzmStp7ZC"
      },
      "execution_count": 35,
      "outputs": []
    },
    {
      "cell_type": "markdown",
      "source": [
        "## Define model"
      ],
      "metadata": {
        "id": "JCsXtRTQsBVP"
      }
    },
    {
      "cell_type": "code",
      "source": [
        "def get_center_point(landmarks, left_bodypart, right_bodypart):\n",
        "  \"\"\"Calculates the center point of the two given landmarks.\"\"\"\n",
        "\n",
        "  left = tf.gather(landmarks, left_bodypart.value, axis=1)\n",
        "  right = tf.gather(landmarks, right_bodypart.value, axis=1)\n",
        "  center = left * 0.5 + right * 0.5\n",
        "  return center\n",
        "\n",
        "\n",
        "def get_pose_size(landmarks, torso_size_multiplier=2.5):\n",
        "  \"\"\"Calculates pose size.\n",
        "\n",
        "  It is the maximum of two values:\n",
        "    * Torso size multiplied by `torso_size_multiplier`\n",
        "    * Maximum distance from pose center to any pose landmark\n",
        "  \"\"\"\n",
        "  # Hips center\n",
        "  hips_center = get_center_point(landmarks, BodyPart.LEFT_HIP, \n",
        "                                 BodyPart.RIGHT_HIP)\n",
        "\n",
        "  # Shoulders center\n",
        "  shoulders_center = get_center_point(landmarks, BodyPart.LEFT_SHOULDER,\n",
        "                                      BodyPart.RIGHT_SHOULDER)\n",
        "\n",
        "  # Torso size as the minimum body size\n",
        "  torso_size = tf.linalg.norm(shoulders_center - hips_center)\n",
        "\n",
        "  # Pose center\n",
        "  pose_center_new = get_center_point(landmarks, BodyPart.LEFT_HIP, \n",
        "                                     BodyPart.RIGHT_HIP)\n",
        "  pose_center_new = tf.expand_dims(pose_center_new, axis=1)\n",
        "  # Broadcast the pose center to the same size as the landmark vector to\n",
        "  # perform substraction\n",
        "  pose_center_new = tf.broadcast_to(pose_center_new,\n",
        "                                    [tf.size(landmarks) // (17*2), 17, 2])\n",
        "\n",
        "  # Dist to pose center\n",
        "  d = tf.gather(landmarks - pose_center_new, 0, axis=0,\n",
        "                name=\"dist_to_pose_center\")\n",
        "  # Max dist to pose center\n",
        "  max_dist = tf.reduce_max(tf.linalg.norm(d, axis=0))\n",
        "\n",
        "  # Normalize scale\n",
        "  pose_size = tf.maximum(torso_size * torso_size_multiplier, max_dist)\n",
        "\n",
        "  return pose_size\n",
        "\n",
        "\n",
        "def normalize_pose_landmarks(landmarks):\n",
        "  \"\"\"Normalizes the landmarks translation by moving the pose center to (0,0) and\n",
        "  scaling it to a constant pose size.\n",
        "  \"\"\"\n",
        "  # Move landmarks so that the pose center becomes (0,0)\n",
        "  pose_center = get_center_point(landmarks, BodyPart.LEFT_HIP, \n",
        "                                 BodyPart.RIGHT_HIP)\n",
        "  pose_center = tf.expand_dims(pose_center, axis=1)\n",
        "  # Broadcast the pose center to the same size as the landmark vector to perform\n",
        "  # substraction\n",
        "  pose_center = tf.broadcast_to(pose_center, \n",
        "                                [tf.size(landmarks) // (17*2), 17, 2])\n",
        "  landmarks = landmarks - pose_center\n",
        "\n",
        "  # Scale the landmarks to a constant pose size\n",
        "  pose_size = get_pose_size(landmarks)\n",
        "  landmarks /= pose_size\n",
        "\n",
        "  return landmarks\n",
        "\n",
        "\n",
        "def landmarks_to_embedding(landmarks_input):\n",
        "  \"\"\"Converts the input landmarks into a pose embedding.\"\"\"\n",
        "  # Reshape the flat input into a matrix with shape=(17, 2)\n",
        "  reshaped_inputs = keras.layers.Reshape((17, 2))(landmarks_input)\n",
        "\n",
        "  # Normalize landmarks 2D\n",
        "  landmarks = normalize_pose_landmarks(reshaped_inputs[:, :])\n",
        "\n",
        "  # Flatten the normalized landmark coordinates into a vector\n",
        "  embedding = keras.layers.Flatten()(landmarks)\n",
        "\n",
        "  return embedding"
      ],
      "metadata": {
        "id": "weQ-qf2Hvzra"
      },
      "execution_count": 36,
      "outputs": []
    },
    {
      "cell_type": "code",
      "source": [
        "# Define the model\n",
        "inputs = tf.keras.Input(shape=(34))\n",
        "embedding = landmarks_to_embedding(inputs)\n",
        "\n",
        "layer = keras.layers.Dense(128, activation=tf.nn.relu6)(embedding)\n",
        "layer = keras.layers.Dropout(0.5)(layer)\n",
        "layer = keras.layers.Dense(64, activation=tf.nn.relu6)(layer)\n",
        "layer = keras.layers.Dropout(0.5)(layer)\n",
        "outputs = keras.layers.Dense(len(class_names), activation=\"softmax\")(layer)\n",
        "\n",
        "model = keras.Model(inputs, outputs)\n",
        "model.summary()"
      ],
      "metadata": {
        "colab": {
          "base_uri": "https://localhost:8080/"
        },
        "id": "GwWGxVWhqWmC",
        "outputId": "ff225a72-d50d-4958-8ed0-3fdf61d4b48d"
      },
      "execution_count": 37,
      "outputs": [
        {
          "output_type": "stream",
          "name": "stdout",
          "text": [
            "Model: \"model_2\"\n",
            "__________________________________________________________________________________________________\n",
            " Layer (type)                   Output Shape         Param #     Connected to                     \n",
            "==================================================================================================\n",
            " input_3 (InputLayer)           [(None, 34)]         0           []                               \n",
            "                                                                                                  \n",
            " reshape_2 (Reshape)            (None, 17, 2)        0           ['input_3[0][0]']                \n",
            "                                                                                                  \n",
            " tf.__operators__.getitem_2 (Sl  (None, 17, 2)       0           ['reshape_2[0][0]']              \n",
            " icingOpLambda)                                                                                   \n",
            "                                                                                                  \n",
            " tf.compat.v1.gather_18 (TFOpLa  (None, 2)           0           ['tf.__operators__.getitem_2[0][0\n",
            " mbda)                                                           ]']                              \n",
            "                                                                                                  \n",
            " tf.compat.v1.gather_19 (TFOpLa  (None, 2)           0           ['tf.__operators__.getitem_2[0][0\n",
            " mbda)                                                           ]']                              \n",
            "                                                                                                  \n",
            " tf.math.multiply_18 (TFOpLambd  (None, 2)           0           ['tf.compat.v1.gather_18[0][0]'] \n",
            " a)                                                                                               \n",
            "                                                                                                  \n",
            " tf.math.multiply_19 (TFOpLambd  (None, 2)           0           ['tf.compat.v1.gather_19[0][0]'] \n",
            " a)                                                                                               \n",
            "                                                                                                  \n",
            " tf.__operators__.add_8 (TFOpLa  (None, 2)           0           ['tf.math.multiply_18[0][0]',    \n",
            " mbda)                                                            'tf.math.multiply_19[0][0]']    \n",
            "                                                                                                  \n",
            " tf.compat.v1.size_4 (TFOpLambd  ()                  0           ['tf.__operators__.getitem_2[0][0\n",
            " a)                                                              ]']                              \n",
            "                                                                                                  \n",
            " tf.expand_dims_4 (TFOpLambda)  (None, 1, 2)         0           ['tf.__operators__.add_8[0][0]'] \n",
            "                                                                                                  \n",
            " tf.compat.v1.floor_div_4 (TFOp  ()                  0           ['tf.compat.v1.size_4[0][0]']    \n",
            " Lambda)                                                                                          \n",
            "                                                                                                  \n",
            " tf.broadcast_to_4 (TFOpLambda)  (None, 17, 2)       0           ['tf.expand_dims_4[0][0]',       \n",
            "                                                                  'tf.compat.v1.floor_div_4[0][0]'\n",
            "                                                                 ]                                \n",
            "                                                                                                  \n",
            " tf.math.subtract_6 (TFOpLambda  (None, 17, 2)       0           ['tf.__operators__.getitem_2[0][0\n",
            " )                                                               ]',                              \n",
            "                                                                  'tf.broadcast_to_4[0][0]']      \n",
            "                                                                                                  \n",
            " tf.compat.v1.gather_24 (TFOpLa  (None, 2)           0           ['tf.math.subtract_6[0][0]']     \n",
            " mbda)                                                                                            \n",
            "                                                                                                  \n",
            " tf.compat.v1.gather_25 (TFOpLa  (None, 2)           0           ['tf.math.subtract_6[0][0]']     \n",
            " mbda)                                                                                            \n",
            "                                                                                                  \n",
            " tf.math.multiply_24 (TFOpLambd  (None, 2)           0           ['tf.compat.v1.gather_24[0][0]'] \n",
            " a)                                                                                               \n",
            "                                                                                                  \n",
            " tf.math.multiply_25 (TFOpLambd  (None, 2)           0           ['tf.compat.v1.gather_25[0][0]'] \n",
            " a)                                                                                               \n",
            "                                                                                                  \n",
            " tf.__operators__.add_11 (TFOpL  (None, 2)           0           ['tf.math.multiply_24[0][0]',    \n",
            " ambda)                                                           'tf.math.multiply_25[0][0]']    \n",
            "                                                                                                  \n",
            " tf.compat.v1.size_5 (TFOpLambd  ()                  0           ['tf.math.subtract_6[0][0]']     \n",
            " a)                                                                                               \n",
            "                                                                                                  \n",
            " tf.compat.v1.gather_22 (TFOpLa  (None, 2)           0           ['tf.math.subtract_6[0][0]']     \n",
            " mbda)                                                                                            \n",
            "                                                                                                  \n",
            " tf.compat.v1.gather_23 (TFOpLa  (None, 2)           0           ['tf.math.subtract_6[0][0]']     \n",
            " mbda)                                                                                            \n",
            "                                                                                                  \n",
            " tf.compat.v1.gather_20 (TFOpLa  (None, 2)           0           ['tf.math.subtract_6[0][0]']     \n",
            " mbda)                                                                                            \n",
            "                                                                                                  \n",
            " tf.compat.v1.gather_21 (TFOpLa  (None, 2)           0           ['tf.math.subtract_6[0][0]']     \n",
            " mbda)                                                                                            \n",
            "                                                                                                  \n",
            " tf.expand_dims_5 (TFOpLambda)  (None, 1, 2)         0           ['tf.__operators__.add_11[0][0]']\n",
            "                                                                                                  \n",
            " tf.compat.v1.floor_div_5 (TFOp  ()                  0           ['tf.compat.v1.size_5[0][0]']    \n",
            " Lambda)                                                                                          \n",
            "                                                                                                  \n",
            " tf.math.multiply_22 (TFOpLambd  (None, 2)           0           ['tf.compat.v1.gather_22[0][0]'] \n",
            " a)                                                                                               \n",
            "                                                                                                  \n",
            " tf.math.multiply_23 (TFOpLambd  (None, 2)           0           ['tf.compat.v1.gather_23[0][0]'] \n",
            " a)                                                                                               \n",
            "                                                                                                  \n",
            " tf.math.multiply_20 (TFOpLambd  (None, 2)           0           ['tf.compat.v1.gather_20[0][0]'] \n",
            " a)                                                                                               \n",
            "                                                                                                  \n",
            " tf.math.multiply_21 (TFOpLambd  (None, 2)           0           ['tf.compat.v1.gather_21[0][0]'] \n",
            " a)                                                                                               \n",
            "                                                                                                  \n",
            " tf.broadcast_to_5 (TFOpLambda)  (None, 17, 2)       0           ['tf.expand_dims_5[0][0]',       \n",
            "                                                                  'tf.compat.v1.floor_div_5[0][0]'\n",
            "                                                                 ]                                \n",
            "                                                                                                  \n",
            " tf.__operators__.add_10 (TFOpL  (None, 2)           0           ['tf.math.multiply_22[0][0]',    \n",
            " ambda)                                                           'tf.math.multiply_23[0][0]']    \n",
            "                                                                                                  \n",
            " tf.__operators__.add_9 (TFOpLa  (None, 2)           0           ['tf.math.multiply_20[0][0]',    \n",
            " mbda)                                                            'tf.math.multiply_21[0][0]']    \n",
            "                                                                                                  \n",
            " tf.math.subtract_8 (TFOpLambda  (None, 17, 2)       0           ['tf.math.subtract_6[0][0]',     \n",
            " )                                                                'tf.broadcast_to_5[0][0]']      \n",
            "                                                                                                  \n",
            " tf.math.subtract_7 (TFOpLambda  (None, 2)           0           ['tf.__operators__.add_10[0][0]',\n",
            " )                                                                'tf.__operators__.add_9[0][0]'] \n",
            "                                                                                                  \n",
            " tf.compat.v1.gather_26 (TFOpLa  (17, 2)             0           ['tf.math.subtract_8[0][0]']     \n",
            " mbda)                                                                                            \n",
            "                                                                                                  \n",
            " tf.compat.v1.norm_4 (TFOpLambd  ()                  0           ['tf.math.subtract_7[0][0]']     \n",
            " a)                                                                                               \n",
            "                                                                                                  \n",
            " tf.compat.v1.norm_5 (TFOpLambd  (2,)                0           ['tf.compat.v1.gather_26[0][0]'] \n",
            " a)                                                                                               \n",
            "                                                                                                  \n",
            " tf.math.multiply_26 (TFOpLambd  ()                  0           ['tf.compat.v1.norm_4[0][0]']    \n",
            " a)                                                                                               \n",
            "                                                                                                  \n",
            " tf.math.reduce_max_2 (TFOpLamb  ()                  0           ['tf.compat.v1.norm_5[0][0]']    \n",
            " da)                                                                                              \n",
            "                                                                                                  \n",
            " tf.math.maximum_2 (TFOpLambda)  ()                  0           ['tf.math.multiply_26[0][0]',    \n",
            "                                                                  'tf.math.reduce_max_2[0][0]']   \n",
            "                                                                                                  \n",
            " tf.math.truediv_2 (TFOpLambda)  (None, 17, 2)       0           ['tf.math.subtract_6[0][0]',     \n",
            "                                                                  'tf.math.maximum_2[0][0]']      \n",
            "                                                                                                  \n",
            " flatten_2 (Flatten)            (None, 34)           0           ['tf.math.truediv_2[0][0]']      \n",
            "                                                                                                  \n",
            " dense_6 (Dense)                (None, 128)          4480        ['flatten_2[0][0]']              \n",
            "                                                                                                  \n",
            " dropout_4 (Dropout)            (None, 128)          0           ['dense_6[0][0]']                \n",
            "                                                                                                  \n",
            " dense_7 (Dense)                (None, 64)           8256        ['dropout_4[0][0]']              \n",
            "                                                                                                  \n",
            " dropout_5 (Dropout)            (None, 64)           0           ['dense_7[0][0]']                \n",
            "                                                                                                  \n",
            " dense_8 (Dense)                (None, 8)            520         ['dropout_5[0][0]']              \n",
            "                                                                                                  \n",
            "==================================================================================================\n",
            "Total params: 13,256\n",
            "Trainable params: 13,256\n",
            "Non-trainable params: 0\n",
            "__________________________________________________________________________________________________\n"
          ]
        }
      ]
    },
    {
      "cell_type": "code",
      "source": [
        "model.compile(\n",
        "    optimizer='adam',\n",
        "    loss='categorical_crossentropy',\n",
        "    metrics=['accuracy']\n",
        ")\n",
        "\n",
        "# Add a checkpoint callback to store the checkpoint that has the highest\n",
        "# validation accuracy.\n",
        "checkpoint_path = \"weights.best.hdf5\"\n",
        "checkpoint = keras.callbacks.ModelCheckpoint(checkpoint_path,\n",
        "                             monitor='val_accuracy',\n",
        "                             verbose=1,\n",
        "                             save_best_only=True,\n",
        "                             mode='max')\n",
        "earlystopping = keras.callbacks.EarlyStopping(monitor='val_accuracy', \n",
        "                                              patience=20)\n",
        "\n",
        "# Start training\n",
        "history = model.fit(X_train, y_train,\n",
        "                    epochs=200,\n",
        "                    batch_size=16,\n",
        "                    validation_data=(X_val, y_val),\n",
        "                    callbacks=[checkpoint, earlystopping])"
      ],
      "metadata": {
        "colab": {
          "base_uri": "https://localhost:8080/"
        },
        "id": "ZpyqZ1SJt3OT",
        "outputId": "4b766d5a-404e-4f3b-8b10-1fcbf1cb7c18"
      },
      "execution_count": 38,
      "outputs": [
        {
          "output_type": "stream",
          "name": "stdout",
          "text": [
            "Epoch 1/200\n",
            "48/49 [============================>.] - ETA: 0s - loss: 1.9492 - accuracy: 0.3398\n",
            "Epoch 1: val_accuracy improved from -inf to 0.42647, saving model to weights.best.hdf5\n",
            "49/49 [==============================] - 1s 9ms/step - loss: 1.9489 - accuracy: 0.3403 - val_loss: 1.8217 - val_accuracy: 0.4265\n",
            "Epoch 2/200\n",
            "47/49 [===========================>..] - ETA: 0s - loss: 1.6280 - accuracy: 0.4694\n",
            "Epoch 2: val_accuracy improved from 0.42647 to 0.54412, saving model to weights.best.hdf5\n",
            "49/49 [==============================] - 0s 4ms/step - loss: 1.6226 - accuracy: 0.4740 - val_loss: 1.4771 - val_accuracy: 0.5441\n",
            "Epoch 3/200\n",
            "45/49 [==========================>...] - ETA: 0s - loss: 1.3170 - accuracy: 0.5514\n",
            "Epoch 3: val_accuracy improved from 0.54412 to 0.83824, saving model to weights.best.hdf5\n",
            "49/49 [==============================] - 0s 4ms/step - loss: 1.3020 - accuracy: 0.5597 - val_loss: 1.1490 - val_accuracy: 0.8382\n",
            "Epoch 4/200\n",
            "45/49 [==========================>...] - ETA: 0s - loss: 1.0562 - accuracy: 0.6681\n",
            "Epoch 4: val_accuracy improved from 0.83824 to 0.85294, saving model to weights.best.hdf5\n",
            "49/49 [==============================] - 0s 4ms/step - loss: 1.0645 - accuracy: 0.6649 - val_loss: 0.8790 - val_accuracy: 0.8529\n",
            "Epoch 5/200\n",
            "45/49 [==========================>...] - ETA: 0s - loss: 0.8869 - accuracy: 0.7389\n",
            "Epoch 5: val_accuracy did not improve from 0.85294\n",
            "49/49 [==============================] - 0s 3ms/step - loss: 0.8701 - accuracy: 0.7455 - val_loss: 0.6841 - val_accuracy: 0.8529\n",
            "Epoch 6/200\n",
            "46/49 [===========================>..] - ETA: 0s - loss: 0.6869 - accuracy: 0.8152\n",
            "Epoch 6: val_accuracy improved from 0.85294 to 0.87500, saving model to weights.best.hdf5\n",
            "49/49 [==============================] - 0s 4ms/step - loss: 0.6915 - accuracy: 0.8117 - val_loss: 0.5355 - val_accuracy: 0.8750\n",
            "Epoch 7/200\n",
            "43/49 [=========================>....] - ETA: 0s - loss: 0.6056 - accuracy: 0.8285\n",
            "Epoch 7: val_accuracy improved from 0.87500 to 0.89706, saving model to weights.best.hdf5\n",
            "49/49 [==============================] - 0s 5ms/step - loss: 0.6130 - accuracy: 0.8273 - val_loss: 0.4388 - val_accuracy: 0.8971\n",
            "Epoch 8/200\n",
            "41/49 [========================>.....] - ETA: 0s - loss: 0.5409 - accuracy: 0.8415\n",
            "Epoch 8: val_accuracy did not improve from 0.89706\n",
            "49/49 [==============================] - 0s 4ms/step - loss: 0.5427 - accuracy: 0.8416 - val_loss: 0.3724 - val_accuracy: 0.8971\n",
            "Epoch 9/200\n",
            "41/49 [========================>.....] - ETA: 0s - loss: 0.4554 - accuracy: 0.8811\n",
            "Epoch 9: val_accuracy improved from 0.89706 to 0.91176, saving model to weights.best.hdf5\n",
            "49/49 [==============================] - 0s 4ms/step - loss: 0.4434 - accuracy: 0.8844 - val_loss: 0.3189 - val_accuracy: 0.9118\n",
            "Epoch 10/200\n",
            "46/49 [===========================>..] - ETA: 0s - loss: 0.4113 - accuracy: 0.8818\n",
            "Epoch 10: val_accuracy improved from 0.91176 to 0.91912, saving model to weights.best.hdf5\n",
            "49/49 [==============================] - 0s 4ms/step - loss: 0.4062 - accuracy: 0.8857 - val_loss: 0.2941 - val_accuracy: 0.9191\n",
            "Epoch 11/200\n",
            "24/49 [=============>................] - ETA: 0s - loss: 0.3735 - accuracy: 0.9036\n",
            "Epoch 11: val_accuracy improved from 0.91912 to 0.94118, saving model to weights.best.hdf5\n",
            "49/49 [==============================] - 0s 4ms/step - loss: 0.3571 - accuracy: 0.9130 - val_loss: 0.2575 - val_accuracy: 0.9412\n",
            "Epoch 12/200\n",
            "49/49 [==============================] - ETA: 0s - loss: 0.3464 - accuracy: 0.9026\n",
            "Epoch 12: val_accuracy improved from 0.94118 to 0.94853, saving model to weights.best.hdf5\n",
            "49/49 [==============================] - 0s 4ms/step - loss: 0.3464 - accuracy: 0.9026 - val_loss: 0.2445 - val_accuracy: 0.9485\n",
            "Epoch 13/200\n",
            "45/49 [==========================>...] - ETA: 0s - loss: 0.3340 - accuracy: 0.9028\n",
            "Epoch 13: val_accuracy did not improve from 0.94853\n",
            "49/49 [==============================] - 0s 3ms/step - loss: 0.3283 - accuracy: 0.9052 - val_loss: 0.2144 - val_accuracy: 0.9412\n",
            "Epoch 14/200\n",
            "48/49 [============================>.] - ETA: 0s - loss: 0.3056 - accuracy: 0.9167\n",
            "Epoch 14: val_accuracy improved from 0.94853 to 0.95588, saving model to weights.best.hdf5\n",
            "49/49 [==============================] - 0s 4ms/step - loss: 0.3048 - accuracy: 0.9169 - val_loss: 0.2047 - val_accuracy: 0.9559\n",
            "Epoch 15/200\n",
            "47/49 [===========================>..] - ETA: 0s - loss: 0.2615 - accuracy: 0.9348\n",
            "Epoch 15: val_accuracy did not improve from 0.95588\n",
            "49/49 [==============================] - 0s 3ms/step - loss: 0.2748 - accuracy: 0.9325 - val_loss: 0.1789 - val_accuracy: 0.9559\n",
            "Epoch 16/200\n",
            "45/49 [==========================>...] - ETA: 0s - loss: 0.2940 - accuracy: 0.9264\n",
            "Epoch 16: val_accuracy did not improve from 0.95588\n",
            "49/49 [==============================] - 0s 3ms/step - loss: 0.2906 - accuracy: 0.9273 - val_loss: 0.1715 - val_accuracy: 0.9559\n",
            "Epoch 17/200\n",
            "45/49 [==========================>...] - ETA: 0s - loss: 0.2528 - accuracy: 0.9222\n",
            "Epoch 17: val_accuracy did not improve from 0.95588\n",
            "49/49 [==============================] - 0s 3ms/step - loss: 0.2529 - accuracy: 0.9234 - val_loss: 0.1608 - val_accuracy: 0.9559\n",
            "Epoch 18/200\n",
            "45/49 [==========================>...] - ETA: 0s - loss: 0.2530 - accuracy: 0.9292\n",
            "Epoch 18: val_accuracy improved from 0.95588 to 0.96324, saving model to weights.best.hdf5\n",
            "49/49 [==============================] - 0s 4ms/step - loss: 0.2602 - accuracy: 0.9247 - val_loss: 0.1467 - val_accuracy: 0.9632\n",
            "Epoch 19/200\n",
            "44/49 [=========================>....] - ETA: 0s - loss: 0.2223 - accuracy: 0.9361\n",
            "Epoch 19: val_accuracy did not improve from 0.96324\n",
            "49/49 [==============================] - 0s 3ms/step - loss: 0.2188 - accuracy: 0.9377 - val_loss: 0.1486 - val_accuracy: 0.9559\n",
            "Epoch 20/200\n",
            "43/49 [=========================>....] - ETA: 0s - loss: 0.2317 - accuracy: 0.9477\n",
            "Epoch 20: val_accuracy did not improve from 0.96324\n",
            "49/49 [==============================] - 0s 3ms/step - loss: 0.2287 - accuracy: 0.9468 - val_loss: 0.1403 - val_accuracy: 0.9559\n",
            "Epoch 21/200\n",
            "44/49 [=========================>....] - ETA: 0s - loss: 0.2128 - accuracy: 0.9474\n",
            "Epoch 21: val_accuracy did not improve from 0.96324\n",
            "49/49 [==============================] - 0s 3ms/step - loss: 0.2075 - accuracy: 0.9481 - val_loss: 0.1386 - val_accuracy: 0.9559\n",
            "Epoch 22/200\n",
            "47/49 [===========================>..] - ETA: 0s - loss: 0.2049 - accuracy: 0.9428\n",
            "Epoch 22: val_accuracy did not improve from 0.96324\n",
            "49/49 [==============================] - 0s 3ms/step - loss: 0.2062 - accuracy: 0.9429 - val_loss: 0.1204 - val_accuracy: 0.9559\n",
            "Epoch 23/200\n",
            "38/49 [======================>.......] - ETA: 0s - loss: 0.1682 - accuracy: 0.9572\n",
            "Epoch 23: val_accuracy did not improve from 0.96324\n",
            "49/49 [==============================] - 0s 4ms/step - loss: 0.1785 - accuracy: 0.9558 - val_loss: 0.1217 - val_accuracy: 0.9632\n",
            "Epoch 24/200\n",
            "41/49 [========================>.....] - ETA: 0s - loss: 0.2151 - accuracy: 0.9405\n",
            "Epoch 24: val_accuracy did not improve from 0.96324\n",
            "49/49 [==============================] - 0s 3ms/step - loss: 0.2004 - accuracy: 0.9468 - val_loss: 0.1147 - val_accuracy: 0.9632\n",
            "Epoch 25/200\n",
            "45/49 [==========================>...] - ETA: 0s - loss: 0.1999 - accuracy: 0.9472\n",
            "Epoch 25: val_accuracy did not improve from 0.96324\n",
            "49/49 [==============================] - 0s 3ms/step - loss: 0.1964 - accuracy: 0.9481 - val_loss: 0.1266 - val_accuracy: 0.9559\n",
            "Epoch 26/200\n",
            "47/49 [===========================>..] - ETA: 0s - loss: 0.1789 - accuracy: 0.9481\n",
            "Epoch 26: val_accuracy did not improve from 0.96324\n",
            "49/49 [==============================] - 0s 3ms/step - loss: 0.1838 - accuracy: 0.9455 - val_loss: 0.1121 - val_accuracy: 0.9632\n",
            "Epoch 27/200\n",
            "49/49 [==============================] - ETA: 0s - loss: 0.1847 - accuracy: 0.9416\n",
            "Epoch 27: val_accuracy improved from 0.96324 to 0.97059, saving model to weights.best.hdf5\n",
            "49/49 [==============================] - 0s 4ms/step - loss: 0.1847 - accuracy: 0.9416 - val_loss: 0.1073 - val_accuracy: 0.9706\n",
            "Epoch 28/200\n",
            "25/49 [==============>...............] - ETA: 0s - loss: 0.1961 - accuracy: 0.9450\n",
            "Epoch 28: val_accuracy improved from 0.97059 to 0.97794, saving model to weights.best.hdf5\n",
            "49/49 [==============================] - 0s 4ms/step - loss: 0.1843 - accuracy: 0.9494 - val_loss: 0.0930 - val_accuracy: 0.9779\n",
            "Epoch 29/200\n",
            "46/49 [===========================>..] - ETA: 0s - loss: 0.1552 - accuracy: 0.9674\n",
            "Epoch 29: val_accuracy did not improve from 0.97794\n",
            "49/49 [==============================] - 0s 3ms/step - loss: 0.1626 - accuracy: 0.9649 - val_loss: 0.0963 - val_accuracy: 0.9706\n",
            "Epoch 30/200\n",
            "46/49 [===========================>..] - ETA: 0s - loss: 0.1735 - accuracy: 0.9457\n",
            "Epoch 30: val_accuracy did not improve from 0.97794\n",
            "49/49 [==============================] - 0s 3ms/step - loss: 0.1760 - accuracy: 0.9442 - val_loss: 0.0996 - val_accuracy: 0.9632\n",
            "Epoch 31/200\n",
            "27/49 [===============>..............] - ETA: 0s - loss: 0.1582 - accuracy: 0.9514\n",
            "Epoch 31: val_accuracy did not improve from 0.97794\n",
            "49/49 [==============================] - 0s 3ms/step - loss: 0.1522 - accuracy: 0.9597 - val_loss: 0.0937 - val_accuracy: 0.9632\n",
            "Epoch 32/200\n",
            "48/49 [============================>.] - ETA: 0s - loss: 0.1449 - accuracy: 0.9583\n",
            "Epoch 32: val_accuracy did not improve from 0.97794\n",
            "49/49 [==============================] - 0s 3ms/step - loss: 0.1446 - accuracy: 0.9584 - val_loss: 0.0950 - val_accuracy: 0.9706\n",
            "Epoch 33/200\n",
            "26/49 [==============>...............] - ETA: 0s - loss: 0.1673 - accuracy: 0.9567\n",
            "Epoch 33: val_accuracy did not improve from 0.97794\n",
            "49/49 [==============================] - 0s 3ms/step - loss: 0.1595 - accuracy: 0.9571 - val_loss: 0.0825 - val_accuracy: 0.9706\n",
            "Epoch 34/200\n",
            "25/49 [==============>...............] - ETA: 0s - loss: 0.1338 - accuracy: 0.9675\n",
            "Epoch 34: val_accuracy did not improve from 0.97794\n",
            "49/49 [==============================] - 0s 3ms/step - loss: 0.1465 - accuracy: 0.9623 - val_loss: 0.0908 - val_accuracy: 0.9632\n",
            "Epoch 35/200\n",
            "45/49 [==========================>...] - ETA: 0s - loss: 0.1535 - accuracy: 0.9597\n",
            "Epoch 35: val_accuracy did not improve from 0.97794\n",
            "49/49 [==============================] - 0s 3ms/step - loss: 0.1487 - accuracy: 0.9623 - val_loss: 0.0862 - val_accuracy: 0.9706\n",
            "Epoch 36/200\n",
            "26/49 [==============>...............] - ETA: 0s - loss: 0.1081 - accuracy: 0.9712\n",
            "Epoch 36: val_accuracy did not improve from 0.97794\n",
            "49/49 [==============================] - 0s 3ms/step - loss: 0.1494 - accuracy: 0.9597 - val_loss: 0.0886 - val_accuracy: 0.9779\n",
            "Epoch 37/200\n",
            "46/49 [===========================>..] - ETA: 0s - loss: 0.1148 - accuracy: 0.9688\n",
            "Epoch 37: val_accuracy did not improve from 0.97794\n",
            "49/49 [==============================] - 0s 3ms/step - loss: 0.1251 - accuracy: 0.9675 - val_loss: 0.0781 - val_accuracy: 0.9779\n",
            "Epoch 38/200\n",
            "49/49 [==============================] - ETA: 0s - loss: 0.1441 - accuracy: 0.9623\n",
            "Epoch 38: val_accuracy did not improve from 0.97794\n",
            "49/49 [==============================] - 0s 3ms/step - loss: 0.1441 - accuracy: 0.9623 - val_loss: 0.0757 - val_accuracy: 0.9632\n",
            "Epoch 39/200\n",
            "47/49 [===========================>..] - ETA: 0s - loss: 0.1338 - accuracy: 0.9614\n",
            "Epoch 39: val_accuracy did not improve from 0.97794\n",
            "49/49 [==============================] - 0s 3ms/step - loss: 0.1340 - accuracy: 0.9610 - val_loss: 0.0799 - val_accuracy: 0.9632\n",
            "Epoch 40/200\n",
            "48/49 [============================>.] - ETA: 0s - loss: 0.1171 - accuracy: 0.9661\n",
            "Epoch 40: val_accuracy did not improve from 0.97794\n",
            "49/49 [==============================] - 0s 3ms/step - loss: 0.1168 - accuracy: 0.9662 - val_loss: 0.0791 - val_accuracy: 0.9706\n",
            "Epoch 41/200\n",
            "26/49 [==============>...............] - ETA: 0s - loss: 0.1111 - accuracy: 0.9639\n",
            "Epoch 41: val_accuracy did not improve from 0.97794\n",
            "49/49 [==============================] - 0s 3ms/step - loss: 0.1053 - accuracy: 0.9649 - val_loss: 0.0755 - val_accuracy: 0.9779\n",
            "Epoch 42/200\n",
            "49/49 [==============================] - ETA: 0s - loss: 0.1187 - accuracy: 0.9675\n",
            "Epoch 42: val_accuracy did not improve from 0.97794\n",
            "49/49 [==============================] - 0s 3ms/step - loss: 0.1187 - accuracy: 0.9675 - val_loss: 0.0775 - val_accuracy: 0.9779\n",
            "Epoch 43/200\n",
            "43/49 [=========================>....] - ETA: 0s - loss: 0.1033 - accuracy: 0.9738\n",
            "Epoch 43: val_accuracy did not improve from 0.97794\n",
            "49/49 [==============================] - 0s 3ms/step - loss: 0.0973 - accuracy: 0.9766 - val_loss: 0.0766 - val_accuracy: 0.9779\n",
            "Epoch 44/200\n",
            "47/49 [===========================>..] - ETA: 0s - loss: 0.1017 - accuracy: 0.9774\n",
            "Epoch 44: val_accuracy did not improve from 0.97794\n",
            "49/49 [==============================] - 0s 3ms/step - loss: 0.1061 - accuracy: 0.9753 - val_loss: 0.0735 - val_accuracy: 0.9779\n",
            "Epoch 45/200\n",
            "25/49 [==============>...............] - ETA: 0s - loss: 0.1052 - accuracy: 0.9675\n",
            "Epoch 45: val_accuracy did not improve from 0.97794\n",
            "49/49 [==============================] - 0s 3ms/step - loss: 0.1024 - accuracy: 0.9727 - val_loss: 0.0707 - val_accuracy: 0.9779\n",
            "Epoch 46/200\n",
            "27/49 [===============>..............] - ETA: 0s - loss: 0.1139 - accuracy: 0.9722\n",
            "Epoch 46: val_accuracy did not improve from 0.97794\n",
            "49/49 [==============================] - 0s 3ms/step - loss: 0.1073 - accuracy: 0.9727 - val_loss: 0.0684 - val_accuracy: 0.9779\n",
            "Epoch 47/200\n",
            "48/49 [============================>.] - ETA: 0s - loss: 0.0930 - accuracy: 0.9779\n",
            "Epoch 47: val_accuracy did not improve from 0.97794\n",
            "49/49 [==============================] - 0s 3ms/step - loss: 0.0928 - accuracy: 0.9779 - val_loss: 0.0724 - val_accuracy: 0.9779\n",
            "Epoch 48/200\n",
            "45/49 [==========================>...] - ETA: 0s - loss: 0.1040 - accuracy: 0.9792\n",
            "Epoch 48: val_accuracy improved from 0.97794 to 0.98529, saving model to weights.best.hdf5\n",
            "49/49 [==============================] - 0s 4ms/step - loss: 0.1005 - accuracy: 0.9805 - val_loss: 0.0672 - val_accuracy: 0.9853\n",
            "Epoch 49/200\n",
            "44/49 [=========================>....] - ETA: 0s - loss: 0.0974 - accuracy: 0.9759\n",
            "Epoch 49: val_accuracy did not improve from 0.98529\n",
            "49/49 [==============================] - 0s 3ms/step - loss: 0.0913 - accuracy: 0.9779 - val_loss: 0.0744 - val_accuracy: 0.9779\n",
            "Epoch 50/200\n",
            "48/49 [============================>.] - ETA: 0s - loss: 0.1019 - accuracy: 0.9714\n",
            "Epoch 50: val_accuracy did not improve from 0.98529\n",
            "49/49 [==============================] - 0s 3ms/step - loss: 0.1016 - accuracy: 0.9714 - val_loss: 0.0636 - val_accuracy: 0.9853\n",
            "Epoch 51/200\n",
            "46/49 [===========================>..] - ETA: 0s - loss: 0.0935 - accuracy: 0.9715\n",
            "Epoch 51: val_accuracy did not improve from 0.98529\n",
            "49/49 [==============================] - 0s 3ms/step - loss: 0.0931 - accuracy: 0.9701 - val_loss: 0.0628 - val_accuracy: 0.9779\n",
            "Epoch 52/200\n",
            "44/49 [=========================>....] - ETA: 0s - loss: 0.0839 - accuracy: 0.9744\n",
            "Epoch 52: val_accuracy did not improve from 0.98529\n",
            "49/49 [==============================] - 0s 3ms/step - loss: 0.0826 - accuracy: 0.9753 - val_loss: 0.0660 - val_accuracy: 0.9779\n",
            "Epoch 53/200\n",
            "46/49 [===========================>..] - ETA: 0s - loss: 0.0746 - accuracy: 0.9810\n",
            "Epoch 53: val_accuracy did not improve from 0.98529\n",
            "49/49 [==============================] - 0s 3ms/step - loss: 0.0730 - accuracy: 0.9818 - val_loss: 0.0726 - val_accuracy: 0.9779\n",
            "Epoch 54/200\n",
            "46/49 [===========================>..] - ETA: 0s - loss: 0.0868 - accuracy: 0.9810\n",
            "Epoch 54: val_accuracy did not improve from 0.98529\n",
            "49/49 [==============================] - 0s 3ms/step - loss: 0.0866 - accuracy: 0.9792 - val_loss: 0.0602 - val_accuracy: 0.9853\n",
            "Epoch 55/200\n",
            "40/49 [=======================>......] - ETA: 0s - loss: 0.0946 - accuracy: 0.9750\n",
            "Epoch 55: val_accuracy did not improve from 0.98529\n",
            "49/49 [==============================] - 0s 4ms/step - loss: 0.0866 - accuracy: 0.9792 - val_loss: 0.0634 - val_accuracy: 0.9853\n",
            "Epoch 56/200\n",
            "46/49 [===========================>..] - ETA: 0s - loss: 0.0817 - accuracy: 0.9823\n",
            "Epoch 56: val_accuracy did not improve from 0.98529\n",
            "49/49 [==============================] - 0s 3ms/step - loss: 0.0813 - accuracy: 0.9818 - val_loss: 0.0742 - val_accuracy: 0.9779\n",
            "Epoch 57/200\n",
            "45/49 [==========================>...] - ETA: 0s - loss: 0.0835 - accuracy: 0.9792\n",
            "Epoch 57: val_accuracy did not improve from 0.98529\n",
            "49/49 [==============================] - 0s 3ms/step - loss: 0.0811 - accuracy: 0.9805 - val_loss: 0.0843 - val_accuracy: 0.9779\n",
            "Epoch 58/200\n",
            "46/49 [===========================>..] - ETA: 0s - loss: 0.0718 - accuracy: 0.9796\n",
            "Epoch 58: val_accuracy did not improve from 0.98529\n",
            "49/49 [==============================] - 0s 3ms/step - loss: 0.0720 - accuracy: 0.9792 - val_loss: 0.0686 - val_accuracy: 0.9779\n",
            "Epoch 59/200\n",
            "44/49 [=========================>....] - ETA: 0s - loss: 0.0675 - accuracy: 0.9844\n",
            "Epoch 59: val_accuracy did not improve from 0.98529\n",
            "49/49 [==============================] - 0s 3ms/step - loss: 0.0670 - accuracy: 0.9844 - val_loss: 0.0765 - val_accuracy: 0.9779\n",
            "Epoch 60/200\n",
            "43/49 [=========================>....] - ETA: 0s - loss: 0.0790 - accuracy: 0.9797\n",
            "Epoch 60: val_accuracy did not improve from 0.98529\n",
            "49/49 [==============================] - 0s 3ms/step - loss: 0.0780 - accuracy: 0.9779 - val_loss: 0.0586 - val_accuracy: 0.9853\n",
            "Epoch 61/200\n",
            "42/49 [========================>.....] - ETA: 0s - loss: 0.0709 - accuracy: 0.9807\n",
            "Epoch 61: val_accuracy did not improve from 0.98529\n",
            "49/49 [==============================] - 0s 3ms/step - loss: 0.0668 - accuracy: 0.9818 - val_loss: 0.0629 - val_accuracy: 0.9779\n",
            "Epoch 62/200\n",
            "41/49 [========================>.....] - ETA: 0s - loss: 0.0814 - accuracy: 0.9771\n",
            "Epoch 62: val_accuracy did not improve from 0.98529\n",
            "49/49 [==============================] - 0s 4ms/step - loss: 0.0810 - accuracy: 0.9792 - val_loss: 0.0669 - val_accuracy: 0.9779\n",
            "Epoch 63/200\n",
            "41/49 [========================>.....] - ETA: 0s - loss: 0.0837 - accuracy: 0.9771\n",
            "Epoch 63: val_accuracy did not improve from 0.98529\n",
            "49/49 [==============================] - 0s 3ms/step - loss: 0.0796 - accuracy: 0.9792 - val_loss: 0.0636 - val_accuracy: 0.9779\n",
            "Epoch 64/200\n",
            "42/49 [========================>.....] - ETA: 0s - loss: 0.0767 - accuracy: 0.9762\n",
            "Epoch 64: val_accuracy did not improve from 0.98529\n",
            "49/49 [==============================] - 0s 3ms/step - loss: 0.0736 - accuracy: 0.9766 - val_loss: 0.0628 - val_accuracy: 0.9779\n",
            "Epoch 65/200\n",
            "49/49 [==============================] - ETA: 0s - loss: 0.0739 - accuracy: 0.9792\n",
            "Epoch 65: val_accuracy did not improve from 0.98529\n",
            "49/49 [==============================] - 0s 3ms/step - loss: 0.0739 - accuracy: 0.9792 - val_loss: 0.0576 - val_accuracy: 0.9779\n",
            "Epoch 66/200\n",
            "42/49 [========================>.....] - ETA: 0s - loss: 0.0753 - accuracy: 0.9747\n",
            "Epoch 66: val_accuracy did not improve from 0.98529\n",
            "49/49 [==============================] - 0s 3ms/step - loss: 0.0758 - accuracy: 0.9740 - val_loss: 0.0658 - val_accuracy: 0.9779\n",
            "Epoch 67/200\n",
            "37/49 [=====================>........] - ETA: 0s - loss: 0.0631 - accuracy: 0.9882\n",
            "Epoch 67: val_accuracy did not improve from 0.98529\n",
            "49/49 [==============================] - 0s 4ms/step - loss: 0.0582 - accuracy: 0.9896 - val_loss: 0.0592 - val_accuracy: 0.9853\n",
            "Epoch 68/200\n",
            "39/49 [======================>.......] - ETA: 0s - loss: 0.0606 - accuracy: 0.9808\n",
            "Epoch 68: val_accuracy did not improve from 0.98529\n",
            "49/49 [==============================] - 0s 4ms/step - loss: 0.0651 - accuracy: 0.9831 - val_loss: 0.0530 - val_accuracy: 0.9853\n"
          ]
        }
      ]
    },
    {
      "cell_type": "code",
      "source": [
        "# Visualize the training history to see whether you're overfitting.\n",
        "plt.plot(history.history['accuracy'])\n",
        "plt.plot(history.history['val_accuracy'])\n",
        "plt.title('Model accuracy')\n",
        "plt.ylabel('accuracy')\n",
        "plt.xlabel('epoch')\n",
        "plt.legend(['TRAIN', 'VAL'], loc='lower right')\n",
        "plt.show()"
      ],
      "metadata": {
        "colab": {
          "base_uri": "https://localhost:8080/",
          "height": 295
        },
        "id": "Mjp826yCt5Wt",
        "outputId": "9afa79d8-38e2-4a82-8eea-aacb26bf7c30"
      },
      "execution_count": 39,
      "outputs": [
        {
          "output_type": "display_data",
          "data": {
            "image/png": "[encoded data removed]",
            "text/plain": [
              "<Figure size 432x288 with 1 Axes>"
            ]
          },
          "metadata": {
            "needs_background": "light"
          }
        }
      ]
    },
    {
      "cell_type": "code",
      "source": [
        "# Evaluate the model using the TEST dataset\n",
        "loss, accuracy = model.evaluate(X_test, y_test)"
      ],
      "metadata": {
        "colab": {
          "base_uri": "https://localhost:8080/"
        },
        "id": "-lVovH6Mt58u",
        "outputId": "3b89f413-ddef-438c-b596-cc1d22a8a358"
      },
      "execution_count": 40,
      "outputs": [
        {
          "output_type": "stream",
          "name": "stdout",
          "text": [
            "5/5 [==============================] - 0s 3ms/step - loss: 0.0797 - accuracy: 0.9809\n"
          ]
        }
      ]
    },
    {
      "cell_type": "markdown",
      "source": [
        "## Draw the confusion matrix to better understand the model performance"
      ],
      "metadata": {
        "id": "us9PJZK2t_hX"
      }
    },
    {
      "cell_type": "code",
      "source": [
        "def plot_confusion_matrix(cm, classes,\n",
        "                          normalize=False,\n",
        "                          title='Confusion matrix',\n",
        "                          cmap=plt.cm.Blues):\n",
        "  \"\"\"Plots the confusion matrix.\"\"\"\n",
        "  if normalize:\n",
        "    cm = cm.astype('float') / cm.sum(axis=1)[:, np.newaxis]\n",
        "    print(\"Normalized confusion matrix\")\n",
        "  else:\n",
        "    print('Confusion matrix, without normalization')\n",
        "\n",
        "  plt.imshow(cm, interpolation='nearest', cmap=cmap)\n",
        "  plt.title(title)\n",
        "  plt.colorbar()\n",
        "  tick_marks = np.arange(len(classes))\n",
        "  plt.xticks(tick_marks, classes, rotation=55)\n",
        "  plt.yticks(tick_marks, classes)\n",
        "  fmt = '.2f' if normalize else 'd'\n",
        "  thresh = cm.max() / 2.\n",
        "  for i, j in itertools.product(range(cm.shape[0]), range(cm.shape[1])):\n",
        "    plt.text(j, i, format(cm[i, j], fmt),\n",
        "              horizontalalignment=\"center\",\n",
        "              color=\"white\" if cm[i, j] > thresh else \"black\")\n",
        "\n",
        "  plt.ylabel('True label')\n",
        "  plt.xlabel('Predicted label')\n",
        "  plt.tight_layout()\n",
        "\n",
        "# Classify pose in the TEST dataset using the trained model\n",
        "y_pred = model.predict(X_test)\n",
        "\n",
        "# Convert the prediction result to class name\n",
        "y_pred_label = [class_names[i] for i in np.argmax(y_pred, axis=1)]\n",
        "y_true_label = [class_names[i] for i in np.argmax(y_test, axis=1)]\n",
        "\n",
        "# Plot the confusion matrix\n",
        "cm = confusion_matrix(np.argmax(y_test, axis=1), np.argmax(y_pred, axis=1))\n",
        "plot_confusion_matrix(cm,\n",
        "                      class_names,\n",
        "                      title ='Confusion Matrix of Pose Classification Model')\n",
        "\n",
        "# Print the classification report\n",
        "print('\\nClassification Report:\\n', classification_report(y_true_label,\n",
        "                                                          y_pred_label))"
      ],
      "metadata": {
        "colab": {
          "base_uri": "https://localhost:8080/",
          "height": 628
        },
        "id": "sONb_6oOt_Oo",
        "outputId": "ef8c2f71-465e-4eb4-b7c2-ea5f0164912b"
      },
      "execution_count": 41,
      "outputs": [
        {
          "output_type": "stream",
          "name": "stdout",
          "text": [
            "Confusion matrix, without normalization\n",
            "\n",
            "Classification Report:\n",
            "               precision    recall  f1-score   support\n",
            "\n",
            "       cobra       1.00      1.00      1.00         9\n",
            " downwarddog       1.00      1.00      1.00         9\n",
            "     leftdab       0.97      1.00      0.98        30\n",
            "    mountain       1.00      0.50      0.67         6\n",
            "    rightdab       1.00      1.00      1.00        30\n",
            "       squat       1.00      1.00      1.00        30\n",
            "      surren       1.00      1.00      1.00        30\n",
            "   triangle1       0.87      1.00      0.93        13\n",
            "\n",
            "    accuracy                           0.98       157\n",
            "   macro avg       0.98      0.94      0.95       157\n",
            "weighted avg       0.98      0.98      0.98       157\n",
            "\n"
          ]
        },
        {
          "output_type": "display_data",
          "data": {
            "image/png": "[encoded data removed]",
            "text/plain": [
              "<Figure size 432x288 with 2 Axes>"
            ]
          },
          "metadata": {
            "needs_background": "light"
          }
        }
      ]
    },
    {
      "cell_type": "markdown",
      "source": [
        "# Export"
      ],
      "metadata": {
        "id": "MKg7B9Ta3HYh"
      }
    },
    {
      "cell_type": "markdown",
      "metadata": {
        "id": "OmSESMetj1sa"
      },
      "source": [
        "## Export a Trained Inference Graph\n",
        "Once your training job is complete, you need to extract the newly trained inference graph, which will be later used to perform the object detection. This can be done as follows:"
      ]
    },
    {
      "cell_type": "code",
      "metadata": {
        "id": "zZJ_AF5MD3hZ",
        "colab": {
          "base_uri": "https://localhost:8080/"
        },
        "outputId": "ea6611b3-a7f4-4cff-e2a1-de8c8c6a06db"
      },
      "source": [
        "#clean output directory if necessary to start fresh:\n",
        "\n",
        "%cd /content/\n",
        "!rm -rf /content/model/ \n",
        "os.makedirs('/content/model/', exist_ok=True)"
      ],
      "execution_count": 42,
      "outputs": [
        {
          "output_type": "stream",
          "name": "stdout",
          "text": [
            "/content\n"
          ]
        }
      ]
    },
    {
      "cell_type": "code",
      "metadata": {
        "id": "DHoP90pUyKSq",
        "colab": {
          "base_uri": "https://localhost:8080/",
          "height": 54
        },
        "outputId": "de742988-b27e-47e4-ccbd-5302816105e5"
      },
      "source": [
        "output_directory = '/content/model/'\n",
        "model_dir = '/content/model/saved_model/'\n",
        "\n",
        "# Save the entire model as a SavedModel.\n",
        "model.save(model_dir)\n",
        "\n",
        "# freeze model\n",
        "from tensorflow.python.framework.convert_to_constants import convert_variables_to_constants_v2\n",
        "full_model = tf.function(lambda inputs: model(inputs))    \n",
        "full_model = full_model.get_concrete_function([tf.TensorSpec(model_input.shape, model_input.dtype) for model_input in model.inputs]) # Get frozen ConcreteFunction    \n",
        "frozen_func = convert_variables_to_constants_v2(full_model)\n",
        "frozen_func.graph.as_graph_def() # Save frozen graph from frozen ConcreteFunction to hard drive\n",
        "tf.io.write_graph(graph_or_graph_def=frozen_func.graph, logdir=output_directory+\"frozen/\", name=\"frozen_inference_graph.pb\", as_text=False)\n"
      ],
      "execution_count": 43,
      "outputs": [
        {
          "output_type": "stream",
          "name": "stdout",
          "text": [
            "INFO:tensorflow:Assets written to: /content/model/saved_model/assets\n"
          ]
        },
        {
          "output_type": "execute_result",
          "data": {
            "application/vnd.google.colaboratory.intrinsic+json": {
              "type": "string"
            },
            "text/plain": [
              "'/content/model/frozen/frozen_inference_graph.pb'"
            ]
          },
          "metadata": {},
          "execution_count": 43
        }
      ]
    },
    {
      "cell_type": "markdown",
      "metadata": {
        "id": "3qucQJwsWhL3"
      },
      "source": [
        "# Prepare the TF model for DepthAI. \n",
        "# First, we convert the model to OpenVINO Intermediate Representation (IR)\n",
        "(This can be used to run inference on OpenVINO, but for our purpose it is only a step in the preparation for DepthAI)\n",
        "# In order to run the model on DepthAI modules, we then compile the IR obtained above to a .blob"
      ]
    },
    {
      "cell_type": "markdown",
      "metadata": {
        "id": "R7sqTX79W6hh"
      },
      "source": [
        "## Convert TF model to OpenVINO IR"
      ]
    },
    {
      "cell_type": "code",
      "metadata": {
        "id": "LsWggE5AIWS6",
        "colab": {
          "base_uri": "https://localhost:8080/"
        },
        "outputId": "136c5ccf-da6b-4236-dea0-9911cee62f82"
      },
      "source": [
        "#CONVERT TF MODEL to OPEN VINO IRv10\n",
        "%cd \"/content/model/frozen\"\n",
        "!mo \\\n",
        "    --input_model frozen_inference_graph.pb \\\n",
        "    --output_dir signs \\\n",
        "    --data_type FP16 \\\n",
        "    --input_shape [34,17,2]\n",
        "    "
      ],
      "execution_count": 63,
      "outputs": [
        {
          "output_type": "stream",
          "name": "stdout",
          "text": [
            "/content/model/frozen\n",
            "Model Optimizer arguments:\n",
            "Common parameters:\n",
            "\t- Path to the Input Model: \t/content/model/frozen/frozen_inference_graph.pb\n",
            "\t- Path for generated IR: \t/content/model/frozen/signs\n",
            "\t- IR output name: \tfrozen_inference_graph\n",
            "\t- Log level: \tERROR\n",
            "\t- Batch: \tNot specified, inherited from the model\n",
            "\t- Input layers: \tNot specified, inherited from the model\n",
            "\t- Output layers: \tNot specified, inherited from the model\n",
            "\t- Input shapes: \t[34,17,2]\n",
            "\t- Mean values: \tNot specified\n",
            "\t- Scale values: \tNot specified\n",
            "\t- Scale factor: \tNot specified\n",
            "\t- Precision of IR: \tFP16\n",
            "\t- Enable fusing: \tTrue\n",
            "\t- Enable grouped convolutions fusing: \tTrue\n",
            "\t- Move mean values to preprocess section: \tNone\n",
            "\t- Reverse input channels: \tFalse\n",
            "TensorFlow specific parameters:\n",
            "\t- Input model in text protobuf format: \tFalse\n",
            "\t- Path to model dump for TensorBoard: \tNone\n",
            "\t- List of shared libraries with TensorFlow custom layers implementation: \tNone\n",
            "\t- Update the configuration file with input/output node names: \tNone\n",
            "\t- Use configuration file used to generate the model with Object Detection API: \tNone\n",
            "\t- Use the config file: \tNone\n",
            "\t- Inference Engine found in: \t/usr/local/lib/python3.7/dist-packages/openvino\n",
            "Inference Engine version: \t2021.4.2-3976-0943ed67223-refs/pull/539/head\n",
            "Model Optimizer version: \t2021.4.2-3976-0943ed67223-refs/pull/539/head\n",
            "/usr/local/lib/python3.7/dist-packages/flatbuffers/compat.py:19: DeprecationWarning: the imp module is deprecated in favour of importlib; see the module's documentation for alternative uses\n",
            "  import imp\n",
            "[ SUCCESS ] Generated IR version 10 model.\n",
            "[ SUCCESS ] XML file: /content/model/frozen/signs/frozen_inference_graph.xml\n",
            "[ SUCCESS ] BIN file: /content/model/frozen/signs/frozen_inference_graph.bin\n",
            "[ SUCCESS ] Total execution time: 16.21 seconds. \n",
            "[ SUCCESS ] Memory consumed: 487 MB. \n",
            "It's been a while, check for a new version of Intel(R) Distribution of OpenVINO(TM) toolkit here https://software.intel.com/content/www/us/en/develop/tools/openvino-toolkit/download.html?cid=other&source=prod&campid=ww_2022_bu_IOTG_OpenVINO-2022-1&content=upg_all&medium=organic or on the GitHub*\n"
          ]
        }
      ]
    },
    {
      "cell_type": "markdown",
      "metadata": {
        "id": "UzArRZOALo_6"
      },
      "source": [
        "## Compile the IR model to a .blob for use on DepthAI modules/platform"
      ]
    },
    {
      "cell_type": "code",
      "metadata": {
        "id": "rUYtu18IMFoP",
        "colab": {
          "base_uri": "https://localhost:8080/"
        },
        "outputId": "35f4ec30-7d1b-493c-a4dc-784790b59060"
      },
      "source": [
        "import os\n",
        "os.environ['IR_XML'] = \"/content/model/frozen/signs/frozen_inference_graph.xml\"\n",
        "os.environ['IR_BIN'] = \"/content/model/frozen/signs/frozen_inference_graph.bin\"\n",
        "os.environ['BLOB_DIR'] = \"/content/model/saved_model_blob/\"\n",
        "\n",
        "!rm -rf $BLOB_DIR && mkdir $BLOB_DIR && cd $BLOB_DIR\n",
        "!blobconverter \\\n",
        "      -o $BLOB_DIR \\\n",
        "      -ox $IR_XML \\\n",
        "      -ob $IR_BIN \\\n",
        "      --shaves 7"
      ],
      "execution_count": 109,
      "outputs": [
        {
          "output_type": "stream",
          "name": "stdout",
          "text": [
            "Downloading /content/model/saved_model_blob/frozen_inference_graph_openvino_2021.4_7shave.blob...\n",
            "[==================================================]\n",
            "Done\n",
            "/content/model/saved_model_blob/frozen_inference_graph_openvino_2021.4_7shave.blob\n"
          ]
        }
      ]
    },
    {
      "cell_type": "markdown",
      "metadata": {
        "id": "gjcjk9TGMOxq"
      },
      "source": [
        "##Now you can download your .blob file and run it on the DepthAI module/platform\n",
        "To download locally, use the file explorer on the left to locate the file in the `$BLOB_DIR` folder, then right click download. Colab takes a few seconds to prepare the file, then the download prompt will appear."
      ]
    },
    {
      "cell_type": "markdown",
      "metadata": {
        "id": "gVo0ZZF3f1dn"
      },
      "source": [
        "## To run the .blob in DepthAI, follow the tutorial:\n",
        "https://docs.luxonis.com/en/latest/pages/tutorials/hello_world/\n",
        "\n"
      ]
    },
    {
      "cell_type": "markdown",
      "metadata": {
        "id": "6YH94kNkM5Uk"
      },
      "source": [
        "[Optional] to convert the blob locally, download the IR files .bin and .xml and follow these instructions:\n",
        "\n",
        "https://docs.luxonis.com/en/latest/pages/tutorials/local_convert_openvino/"
      ]
    },
    {
      "cell_type": "code",
      "metadata": {
        "id": "GOBXTQGqMgH0",
        "colab": {
          "base_uri": "https://localhost:8080/"
        },
        "outputId": "2e70f068-7bec-459f-df83-8999294f7af6"
      },
      "source": [
        "#compress the IR_V10 folder\n",
        "%cd /content/\n",
        "!tar cvf model.tar.gz model\n"
      ],
      "execution_count": 114,
      "outputs": [
        {
          "output_type": "stream",
          "name": "stdout",
          "text": [
            "/content\n",
            "model/\n",
            "model/saved_model/\n",
            "model/saved_model/assets/\n",
            "model/saved_model/variables/\n",
            "model/saved_model/variables/variables.index\n",
            "model/saved_model/variables/variables.data-00000-of-00001\n",
            "model/saved_model/keras_metadata.pb\n",
            "model/saved_model/saved_model.pb\n",
            "model/saved_model_blob/\n",
            "model/saved_model_blob/frozen_inference_graph_openvino_2021.4_7shave.blob\n",
            "model/frozen/\n",
            "model/frozen/movenet_thunder.tflite\n",
            "model/frozen/frozen_inference_graph.pb\n",
            "model/frozen/signs/\n",
            "model/frozen/signs/frozen_inference_graph.bin\n",
            "model/frozen/signs/frozen_inference_graph.xml\n",
            "model/frozen/signs/frozen_inference_graph.mapping\n"
          ]
        }
      ]
    },
    {
      "cell_type": "code",
      "metadata": {
        "id": "NLzHC-E9Mo6v",
        "colab": {
          "base_uri": "https://localhost:8080/",
          "height": 17
        },
        "outputId": "1482cb80-b482-4ccf-bb18-3eaef06d28ed"
      },
      "source": [
        "#download the compressed IRv10 folder locally\n",
        "#or can use file navigator on the left to move it to your gdrive\n",
        "from google.colab import files\n",
        "files.download(\"model.tar.gz\")"
      ],
      "execution_count": 115,
      "outputs": [
        {
          "output_type": "display_data",
          "data": {
            "application/javascript": [
              "\n",
              "    async function download(id, filename, size) {\n",
              "      if (!google.colab.kernel.accessAllowed) {\n",
              "        return;\n",
              "      }\n",
              "      const div = document.createElement('div');\n",
              "      const label = document.createElement('label');\n",
              "      label.textContent = `Downloading \"${filename}\": `;\n",
              "      div.appendChild(label);\n",
              "      const progress = document.createElement('progress');\n",
              "      progress.max = size;\n",
              "      div.appendChild(progress);\n",
              "      document.body.appendChild(div);\n",
              "\n",
              "      const buffers = [];\n",
              "      let downloaded = 0;\n",
              "\n",
              "      const channel = await google.colab.kernel.comms.open(id);\n",
              "      // Send a message to notify the kernel that we're ready.\n",
              "      channel.send({})\n",
              "\n",
              "      for await (const message of channel.messages) {\n",
              "        // Send a message to notify the kernel that we're ready.\n",
              "        channel.send({})\n",
              "        if (message.buffers) {\n",
              "          for (const buffer of message.buffers) {\n",
              "            buffers.push(buffer);\n",
              "            downloaded += buffer.byteLength;\n",
              "            progress.value = downloaded;\n",
              "          }\n",
              "        }\n",
              "      }\n",
              "      const blob = new Blob(buffers, {type: 'application/binary'});\n",
              "      const a = document.createElement('a');\n",
              "      a.href = window.URL.createObjectURL(blob);\n",
              "      a.download = filename;\n",
              "      div.appendChild(a);\n",
              "      a.click();\n",
              "      div.remove();\n",
              "    }\n",
              "  "
            ],
            "text/plain": [
              "<IPython.core.display.Javascript object>"
            ]
          },
          "metadata": {}
        },
        {
          "output_type": "display_data",
          "data": {
            "application/javascript": [
              "download(\"download_df7351cd-4755-45d4-81bb-af0ad563d80d\", \"model.tar.gz\", 13322240)"
            ],
            "text/plain": [
              "<IPython.core.display.Javascript object>"
            ]
          },
          "metadata": {}
        }
      ]
    }
  ]
}